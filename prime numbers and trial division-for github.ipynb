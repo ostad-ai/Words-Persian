{
 "cells": [
  {
   "cell_type": "markdown",
   "metadata": {},
   "source": [
    "### Words.Persian: trial division for prime factorization\n",
    "### بخشکرد آزمونی برای ساختگرگیری نخست\n",
    "$n=p^{n_{1}}_{1}\\cdot p^{n_{2}}_{2}...  p^{n_{k}}_{k}$\n",
    "###### by Hamed Shah-hosseini\n",
    "Explanation in Persian (پارسی) at Instagram: @words.persian\n",
    "<br>https://www.instagram.com/words.persian/\n",
    "<br>Code at: https://github.com/ostad-ai/Words-Persian"
   ]
  },
  {
   "cell_type": "code",
   "execution_count": 48,
   "metadata": {},
   "outputs": [],
   "source": [
    "def trial_division(n):\n",
    "    p_factors=[]\n",
    "    p=2\n",
    "    while n>1:\n",
    "        if n%p==0:\n",
    "            p_factors.append(p)\n",
    "            n//=p\n",
    "        else:\n",
    "            p+=1\n",
    "    return p_factors\n",
    "\n",
    "#--faster version\n",
    "def trial_division_2v(n):\n",
    "    p_factors=[]\n",
    "    p=2\n",
    "    while n%p==0:\n",
    "        p_factors.append(p)\n",
    "        n//=p\n",
    "    p=3\n",
    "    while n>=(p*p):\n",
    "        if n%p==0:\n",
    "            p_factors.append(p)\n",
    "            n//=p\n",
    "        else:\n",
    "            p+=2\n",
    "    if n != 1: p_factors.append(n)\n",
    "    return p_factors\n",
    "\n",
    "# get primes and their powers from the factorization\n",
    "def unique_rep(p_factors):\n",
    "    primes=set(p_factors)\n",
    "    powers=[]\n",
    "    for p in primes:\n",
    "        powers.append(p_factors.count(p))\n",
    "    return primes, powers"
   ]
  },
  {
   "cell_type": "code",
   "execution_count": 69,
   "metadata": {},
   "outputs": [
    {
     "data": {
      "text/plain": [
       "[2, 2, 3, 5]"
      ]
     },
     "execution_count": 69,
     "metadata": {},
     "output_type": "execute_result"
    }
   ],
   "source": [
    "factors=trial_division(60)\n",
    "factors"
   ]
  },
  {
   "cell_type": "code",
   "execution_count": 68,
   "metadata": {},
   "outputs": [
    {
     "data": {
      "text/plain": [
       "({2, 3, 5}, [2, 1, 1])"
      ]
     },
     "execution_count": 68,
     "metadata": {},
     "output_type": "execute_result"
    }
   ],
   "source": [
    "unique_rep(factors)"
   ]
  },
  {
   "cell_type": "code",
   "execution_count": 54,
   "metadata": {},
   "outputs": [
    {
     "data": {
      "text/latex": [
       "$\\displaystyle 1234567890=2^1\\;3^2\\;5^1\\;3607^1\\;3803^1\\;$"
      ],
      "text/plain": [
       "<IPython.core.display.Math object>"
      ]
     },
     "execution_count": 54,
     "metadata": {},
     "output_type": "execute_result"
    }
   ],
   "source": [
    "from IPython.display import Math\n",
    "number=1234567890\n",
    "p_facts=trial_division(number)\n",
    "primes,powers=unique_rep(p_facts)\n",
    "out_text=str(number)+'='\n",
    "for pr,po in zip(primes,powers):\n",
    "    out_text+=str(pr)+'^'+str(po)+'\\;'\n",
    "Math(out_text)"
   ]
  },
  {
   "cell_type": "markdown",
   "metadata": {},
   "source": [
    "#### Time comparison between two versions of trial division\n",
    "#### همسنجی زمانی میان دو پچین بخشکرد آزمونی  "
   ]
  },
  {
   "cell_type": "code",
   "execution_count": 59,
   "metadata": {},
   "outputs": [
    {
     "name": "stdout",
     "output_type": "stream",
     "text": [
      "15.3 ms ± 74 µs per loop (mean ± std. dev. of 7 runs, 100 loops each)\n"
     ]
    }
   ],
   "source": [
    "%timeit trial_division(9990009999)"
   ]
  },
  {
   "cell_type": "code",
   "execution_count": 58,
   "metadata": {},
   "outputs": [
    {
     "name": "stdout",
     "output_type": "stream",
     "text": [
      "63.4 µs ± 498 ns per loop (mean ± std. dev. of 7 runs, 10000 loops each)\n"
     ]
    }
   ],
   "source": [
    "%timeit trial_division_2v(9990009999)"
   ]
  },
  {
   "cell_type": "code",
   "execution_count": null,
   "metadata": {},
   "outputs": [],
   "source": []
  }
 ],
 "metadata": {
  "kernelspec": {
   "display_name": "Python 3 (ipykernel)",
   "language": "python",
   "name": "python3"
  },
  "language_info": {
   "codemirror_mode": {
    "name": "ipython",
    "version": 3
   },
   "file_extension": ".py",
   "mimetype": "text/x-python",
   "name": "python",
   "nbconvert_exporter": "python",
   "pygments_lexer": "ipython3",
   "version": "3.8.10"
  }
 },
 "nbformat": 4,
 "nbformat_minor": 4
}
