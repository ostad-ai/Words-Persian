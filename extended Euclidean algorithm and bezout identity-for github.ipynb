{
 "cells": [
  {
   "cell_type": "markdown",
   "metadata": {},
   "source": [
    "### Words.Persian: Extended Euclidean algorithm and Bezout identity\n",
    "### الگوریتم فراگسترده اقلیدسی و همانی بزوت\n",
    "Bezout's Identity: $gcd(a,b)=a\\cdot s+b\\cdot t$\n",
    "###### by Hamed Shah-hosseini\n",
    "Explanation in Persian (پارسی) at Instagram: @words.persian\n",
    "<br>https://www.instagram.com/words.persian/\n",
    "<br>Code at: https://github.com/ostad-ai/Words-Persian"
   ]
  },
  {
   "cell_type": "code",
   "execution_count": 18,
   "metadata": {},
   "outputs": [],
   "source": [
    "# Extended Euclidean algorithm\n",
    "# returns GCD, and bezout parameters s and t\n",
    "def extended_Euc(a,b):\n",
    "    a,b= abs(a),abs(b)\n",
    "    swapFlag=False\n",
    "    if a<b:\n",
    "        a,b=b,a\n",
    "        swapFlag=True\n",
    "    r_old,r_new=a,b\n",
    "    s_old,s_new=1,0\n",
    "    t_old,t_new=0,1\n",
    "    while r_new>0:\n",
    "        q=r_old//r_new\n",
    "        r_old,r_new=r_new,r_old-q*r_new\n",
    "        s_old,s_new=s_new,s_old-q*s_new\n",
    "        t_old,t_new=t_new,t_old-q*t_new\n",
    "    if swapFlag:\n",
    "        return r_old,t_old,s_old\n",
    "    else:\n",
    "        return r_old,s_old,t_old"
   ]
  },
  {
   "cell_type": "code",
   "execution_count": 19,
   "metadata": {},
   "outputs": [
    {
     "name": "stdout",
     "output_type": "stream",
     "text": [
      "GCD(12,42)=6\n",
      "Bezout's identity: 12*-3+42*1=6\n"
     ]
    }
   ],
   "source": [
    "#--example for Extended Euclidean:\n",
    "a,b=12,42\n",
    "gcd,s,t=extended_Euc(a,b)\n",
    "print(f'GCD({a},{b})={gcd}')\n",
    "print(f'Bezout\\'s identity: {a}*{s}+{b}*{t}={gcd}')"
   ]
  },
  {
   "cell_type": "code",
   "execution_count": null,
   "metadata": {},
   "outputs": [],
   "source": []
  }
 ],
 "metadata": {
  "kernelspec": {
   "display_name": "Python 3 (ipykernel)",
   "language": "python",
   "name": "python3"
  },
  "language_info": {
   "codemirror_mode": {
    "name": "ipython",
    "version": 3
   },
   "file_extension": ".py",
   "mimetype": "text/x-python",
   "name": "python",
   "nbconvert_exporter": "python",
   "pygments_lexer": "ipython3",
   "version": "3.8.10"
  }
 },
 "nbformat": 4,
 "nbformat_minor": 4
}
