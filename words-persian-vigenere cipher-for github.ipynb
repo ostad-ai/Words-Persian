{
 "cells": [
  {
   "cell_type": "markdown",
   "metadata": {},
   "source": [
    "### Words.Persian: Vigenere cipher\n",
    "### زُفر ویژنر\n",
    "یکی از روشهای نهمب‌گذاری و نهمب‌گشایی، که گسترش‌یافته زُفر دگرگشت است\n",
    "<br>$y_i\\leftarrow (x_i+k_{(i\\; mod\\; len(key))}) \\;mod\\;  len(alphabet)$\n",
    "<br>$x_i\\leftarrow (y_i-k_{(i\\; mod\\; len(key))}) \\;mod\\;  len(alphabet)$\n",
    "<br> encryption=نهمب‌گذاری\n",
    "<br> decryption=نهمب‌گشایی\n",
    "<br> shift cipher=زُفر دگرگشت\n",
    "###### by Hamed Shah-hosseini\n",
    "Explanation in Persian (پارسی) at Instagram: @words.persian\n",
    "<br>https://www.instagram.com/words.persian/\n",
    "<br>Code at: https://github.com/ostad-ai/Words-Persian"
   ]
  },
  {
   "cell_type": "code",
   "execution_count": 5,
   "metadata": {},
   "outputs": [],
   "source": [
    "import string"
   ]
  },
  {
   "cell_type": "markdown",
   "metadata": {},
   "source": [
    "در اینجا، از الفبای انگلیسی بهره میگیریم"
   ]
  },
  {
   "cell_type": "code",
   "execution_count": 6,
   "metadata": {},
   "outputs": [
    {
     "name": "stdout",
     "output_type": "stream",
     "text": [
      "The characters of english alphabet:\n",
      "abcdefghijklmnopqrstuvwxyz\n"
     ]
    }
   ],
   "source": [
    "english_alphabet=string.ascii_lowercase\n",
    "print('The characters of english alphabet:')\n",
    "print(english_alphabet)"
   ]
  },
  {
   "cell_type": "markdown",
   "metadata": {},
   "source": [
    "هر نویسه (کاراکتر) در الفبای انگلیسی را با شماره ای دُریست (اینتیجر)، برپایه پیچازه (تیبل) زیر، جایگزین میکنیم"
   ]
  },
  {
   "cell_type": "code",
   "execution_count": 7,
   "metadata": {},
   "outputs": [
    {
     "name": "stdout",
     "output_type": "stream",
     "text": [
      "alphabet table:\n",
      "\n",
      "a : 0 ,b : 1 ,c : 2 ,d : 3 ,e : 4 ,f : 5 ,g : 6 ,h : 7 ,i : 8 ,j : 9 ,k : 10 ,l : 11 ,m : 12 ,n : 13 ,o : 14 ,p : 15 ,q : 16 ,r : 17 ,s : 18 ,t : 19 ,u : 20 ,v : 21 ,w : 22 ,x : 23 ,y : 24 ,z : 25 ,"
     ]
    }
   ],
   "source": [
    "# the codes from letter to integer\n",
    "print('alphabet table:\\n')\n",
    "for char in english_alphabet:\n",
    "    print(char,':',english_alphabet.find(char),end=' ,')"
   ]
  },
  {
   "cell_type": "markdown",
   "metadata": {},
   "source": [
    "الگوریتم نهمب‌گذاری به روش زُفر ویژنر، در زیر آمده"
   ]
  },
  {
   "cell_type": "code",
   "execution_count": 11,
   "metadata": {},
   "outputs": [],
   "source": [
    "# encryption function for Vigenere cipher\n",
    "def vigenere_cipher_encryption(msg,alphabet,key='ostad'):\n",
    "    code_len=len(alphabet)\n",
    "    key_len=len(key)\n",
    "    key_i=0\n",
    "    msg_enc=''\n",
    "    for word in msg.split(' '):\n",
    "        word_enc=''\n",
    "        for letter in word:\n",
    "            index=alphabet.find(letter)\n",
    "            k=alphabet.find(key[key_i%key_len])\n",
    "            index_enc=(index+k)%code_len\n",
    "            letter_enc=alphabet[index_enc]\n",
    "            word_enc+=letter_enc\n",
    "            key_i+=1\n",
    "        msg_enc+=word_enc\n",
    "        msg_enc+=' '\n",
    "    msg_enc=msg_enc[:-1]\n",
    "    return msg_enc"
   ]
  },
  {
   "cell_type": "markdown",
   "metadata": {},
   "source": [
    "الگوریتم نهمب‌گشایی به روش زُفر ویژنر، در زیر آمده"
   ]
  },
  {
   "cell_type": "code",
   "execution_count": 12,
   "metadata": {},
   "outputs": [],
   "source": [
    "# deccryption function for Vigenere cipher\n",
    "def vigenere_cipher_decryption(msg_enc,alphabet,key='ostad'):\n",
    "    code_len=len(alphabet)\n",
    "    key_len=len(key)\n",
    "    key_i=0\n",
    "    msg_dec=''\n",
    "    for word in msg_enc.split(' '):\n",
    "        word_dec=''\n",
    "        for letter in word:\n",
    "            index=alphabet.find(letter)\n",
    "            k=alphabet.find(key[key_i%key_len])\n",
    "            index_dec=(index-k)%code_len\n",
    "            letter_dec=alphabet[index_dec]\n",
    "            word_dec+=letter_dec\n",
    "            key_i+=1\n",
    "        msg_dec+=word_dec\n",
    "        msg_dec+=' '\n",
    "    msg_dec=msg_dec[:-1]\n",
    "    return msg_dec"
   ]
  },
  {
   "cell_type": "markdown",
   "metadata": {},
   "source": [
    "نمونه ای از یک پیغام، که نخست، نهمب‌گذاری میشود، و سپس نهمب‌گشایی میشود"
   ]
  },
  {
   "cell_type": "code",
   "execution_count": 10,
   "metadata": {},
   "outputs": [
    {
     "name": "stdout",
     "output_type": "stream",
     "text": [
      "plaintext: hello world from vigenere\n",
      "ciphertext: vwelr kgklg tjhm ywyxnhfw\n",
      "decrypted text: hello world from vigenere\n"
     ]
    }
   ],
   "source": [
    "# example using english alphabet, and key='ostad'\n",
    "message='hello world from vigenere'\n",
    "encrypted=vigenere_cipher_encryption(message,english_alphabet)\n",
    "decrypted=vigenere_cipher_decryption(encrypted,english_alphabet)\n",
    "print(f'plaintext: {message}')\n",
    "print(f'ciphertext: {encrypted}')\n",
    "print(f'decrypted text: {decrypted}')"
   ]
  },
  {
   "cell_type": "code",
   "execution_count": null,
   "metadata": {},
   "outputs": [],
   "source": []
  }
 ],
 "metadata": {
  "kernelspec": {
   "display_name": "Python 3 (ipykernel)",
   "language": "python",
   "name": "python3"
  },
  "language_info": {
   "codemirror_mode": {
    "name": "ipython",
    "version": 3
   },
   "file_extension": ".py",
   "mimetype": "text/x-python",
   "name": "python",
   "nbconvert_exporter": "python",
   "pygments_lexer": "ipython3",
   "version": "3.8.10"
  }
 },
 "nbformat": 4,
 "nbformat_minor": 2
}
