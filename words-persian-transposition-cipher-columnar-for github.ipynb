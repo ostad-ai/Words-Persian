{
 "cells": [
  {
   "cell_type": "markdown",
   "metadata": {},
   "source": [
    "### Words.Persian: Transposition cipher, columnar\n",
    "### زُفر ترانهش، ستونی\n",
    "یکی از روشهای نهمب‌گذاری و نهمب‌گشایی، برپایه ترانهش نویسه (کارکتر) ها\n",
    "<br>در این روش، کلید، شماره های ستونها را دربردارد\n",
    "<br> encryption=نهمب‌گذاری\n",
    "<br> decryption=نهمب‌گشایی\n",
    "###### by Hamed Shah-آHosseini\n",
    "Explanation in Persian (پارسی) at Instagram: @words.persian\n",
    "<br>https://www.instagram.com/words.persian/\n",
    "<br>Code at: https://github.com/ostad-ai/Words-Persian"
   ]
  },
  {
   "cell_type": "code",
   "execution_count": 3,
   "metadata": {},
   "outputs": [],
   "source": [
    "import random"
   ]
  },
  {
   "cell_type": "markdown",
   "metadata": {},
   "source": [
    "الگوریتم نهمب‌گذاری و نهمب‌گشایی برای زُفر ترانهش ستونی"
   ]
  },
  {
   "cell_type": "code",
   "execution_count": 8,
   "metadata": {},
   "outputs": [],
   "source": [
    "# Columnar transposition cipher\n",
    "# key is a string of non-negative integers \n",
    "# Encryption with columnar transposition\n",
    "def columnar_encrypt(msg,key):\n",
    "    msg=''.join(msg.split()) #removing spaces\n",
    "    Nrows=int(round(len(msg)/len(key))) #number of rows\n",
    "    Ncolumns=len(key) #number of columns\n",
    "    rem=len(msg)%len(key)\n",
    "    if rem!=0:\n",
    "        rem=Ncolumns-rem\n",
    "        cs=''\n",
    "        while rem>0:\n",
    "            cs+=msg[random.randint(0,len(msg)-1)]\n",
    "            rem-=1\n",
    "        msg+=cs\n",
    "    msg_enc=''\n",
    "    msg_arr=[[' ']*Ncolumns for row in range(Nrows)]\n",
    "    counter=0\n",
    "    for row in range(Nrows):\n",
    "        for col in range(Ncolumns):\n",
    "            msg_arr[row][col]=msg[counter]\n",
    "            counter+=1\n",
    "    for col in range(Ncolumns):\n",
    "        col_k=key.find(str(col))\n",
    "        for row in range(Nrows):\n",
    "            msg_enc+=msg_arr[row][col_k]           \n",
    "    return msg_enc\n",
    "\n",
    "# Decryption for columnar transpostion\n",
    "def columnar_decrypt(msg_enc,key):\n",
    "    Nrows=int(round(len(msg_enc)/len(key))) #number of rows\n",
    "    Ncolumns=len(key) #number of columns\n",
    "    msg_dec=''\n",
    "    msg_arr=[[' ']*Ncolumns for row in range(Nrows)]\n",
    "    counter=0\n",
    "    for col in range(Ncolumns):\n",
    "        col_k=key.find(str(col))\n",
    "        for row in range(Nrows):\n",
    "            msg_arr[row][col_k]=msg_enc[counter]\n",
    "            counter+=1\n",
    "    for row in range(Nrows):\n",
    "        for col in range(Ncolumns):\n",
    "            msg_dec+=msg_arr[row][col]\n",
    "    return msg_dec"
   ]
  },
  {
   "cell_type": "markdown",
   "metadata": {},
   "source": [
    "نمونه ای از یک پیغام، که نخست، نهمب‌گذاری میشود، و سپس نهمب‌گشایی میشود"
   ]
  },
  {
   "cell_type": "code",
   "execution_count": 31,
   "metadata": {},
   "outputs": [
    {
     "name": "stdout",
     "output_type": "stream",
     "text": [
      "plaintext: hello world from columnar transposition\n",
      "ciphertext: wrurssllcasihoomaiermnntofltonldorpo\n",
      "decrypted text: helloworldfromcolumnartranspositions\n"
     ]
    }
   ],
   "source": [
    "message='hello world from columnar transposition'\n",
    "Ncols=6 # number of columns in the grid\n",
    "#--- Generating a random key\n",
    "key=list(range(Ncols)) \n",
    "random.shuffle(key)\n",
    "key=''.join(str(k) for k in key)\n",
    "# ----------\n",
    "encrypted=columnar_encrypt(message,key)\n",
    "decrypted=columnar_decrypt(encrypted,key)\n",
    "print(f'plaintext: {message}')\n",
    "print(f'ciphertext: {encrypted}')\n",
    "print(f'decrypted text: {decrypted}')"
   ]
  },
  {
   "cell_type": "code",
   "execution_count": null,
   "metadata": {},
   "outputs": [],
   "source": []
  }
 ],
 "metadata": {
  "kernelspec": {
   "display_name": "Python 3 (ipykernel)",
   "language": "python",
   "name": "python3"
  },
  "language_info": {
   "codemirror_mode": {
    "name": "ipython",
    "version": 3
   },
   "file_extension": ".py",
   "mimetype": "text/x-python",
   "name": "python",
   "nbconvert_exporter": "python",
   "pygments_lexer": "ipython3",
   "version": "3.8.10"
  }
 },
 "nbformat": 4,
 "nbformat_minor": 2
}
