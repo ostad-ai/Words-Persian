{
 "cells": [
  {
   "cell_type": "markdown",
   "metadata": {},
   "source": [
    "### Words.Persian: Hill cipher\n",
    "### زُفر هیل\n",
    "یکی از روشهای نهمب‌گذاری و نهمب‌گشایی، برپایه برابرشهای تانه ای است\n",
    "<br>در این روش، کلید، یک ماتکدان چارسو است\n",
    "<br> encryption=نهمب‌گذاری\n",
    "<br> decryption=نهمب‌گشایی\n",
    "###### by Hamed Shah-آHosseini\n",
    "Explanation in Persian (پارسی) at Instagram: @words.persian\n",
    "<br>https://www.instagram.com/words.persian/\n",
    "<br>Code at: https://github.com/ostad-ai/Words-Persian"
   ]
  },
  {
   "cell_type": "code",
   "execution_count": 1,
   "metadata": {},
   "outputs": [],
   "source": [
    "import numpy as np\n",
    "import string"
   ]
  },
  {
   "cell_type": "markdown",
   "metadata": {},
   "source": [
    "در اینجا، از الفبای انگلیسی بهره میگیریم"
   ]
  },
  {
   "cell_type": "code",
   "execution_count": 2,
   "metadata": {},
   "outputs": [
    {
     "name": "stdout",
     "output_type": "stream",
     "text": [
      "The characters of english alphabet:\n",
      "abcdefghijklmnopqrstuvwxyz\n"
     ]
    }
   ],
   "source": [
    "english_alphabet=string.ascii_lowercase\n",
    "print('The characters of english alphabet:')\n",
    "print(english_alphabet)"
   ]
  },
  {
   "cell_type": "markdown",
   "metadata": {},
   "source": [
    "هر نویسه (کاراکتر) در الفبای انگلیسی را با شماره ای دُریست (اینتیجر)، برپایه پیچازه (تیبل) زیر، جایگزین میکنیم"
   ]
  },
  {
   "cell_type": "code",
   "execution_count": 3,
   "metadata": {},
   "outputs": [
    {
     "name": "stdout",
     "output_type": "stream",
     "text": [
      "alphabet table:\n",
      "\n",
      "a : 0 ,b : 1 ,c : 2 ,d : 3 ,e : 4 ,f : 5 ,g : 6 ,h : 7 ,i : 8 ,j : 9 ,k : 10 ,l : 11 ,m : 12 ,n : 13 ,o : 14 ,p : 15 ,q : 16 ,r : 17 ,s : 18 ,t : 19 ,u : 20 ,v : 21 ,w : 22 ,x : 23 ,y : 24 ,z : 25 ,"
     ]
    }
   ],
   "source": [
    "# the codes from letter to integer\n",
    "print('alphabet table:\\n')\n",
    "for char in english_alphabet:\n",
    "    print(char,':',english_alphabet.find(char),end=' ,')"
   ]
  },
  {
   "cell_type": "markdown",
   "metadata": {},
   "source": [
    "دیدیم که چگونه وارونه چندینکردی را با الگوریتم فراگسترده اقلیدسی، انجام \n",
    "دهیم\n",
    "<br>در اینجا، الگوریتم فراگسترده اقلیدسی را به روز رسانی کرده تا برای شماره های ناینده (نگاتیو) نیز، به درستی کار کند"
   ]
  },
  {
   "cell_type": "code",
   "execution_count": 4,
   "metadata": {},
   "outputs": [],
   "source": [
    "# version 2: for handling negative integers too\n",
    "# Extended Euclidean algorithm\n",
    "# returns GCD, and bezout parameters s and t\n",
    "def extended_Euc_v2(a0,b0):\n",
    "    a,b= abs(a0),abs(b0)\n",
    "    swapFlag=False\n",
    "    if a<b:\n",
    "        a,b=b,a\n",
    "        swapFlag=True\n",
    "    r_old,r_new=a,b\n",
    "    s_old,s_new=1,0\n",
    "    t_old,t_new=0,1\n",
    "    while r_new>0:\n",
    "        q=r_old//r_new\n",
    "        r_old,r_new=r_new,r_old-q*r_new\n",
    "        s_old,s_new=s_new,s_old-q*s_new\n",
    "        t_old,t_new=t_new,t_old-q*t_new    \n",
    "    if swapFlag:\n",
    "        if a0<0: t_old=-t_old\n",
    "        if b0<0: s_old=-s_old\n",
    "        return r_old,t_old,s_old\n",
    "    else:\n",
    "        if a0<0: s_old=-s_old\n",
    "        if b0<0: t_old=-t_old\n",
    "        return r_old,s_old,t_old\n",
    "    \n",
    "# multiplicative inverse of a with modulus m\n",
    "# which handles both engative and pisitve a\n",
    "def mult_inverse(a,m):\n",
    "    gcd,s,t=extended_Euc_v2(a,m)\n",
    "    if gcd!=1:\n",
    "        return None\n",
    "    else:\n",
    "        return s"
   ]
  },
  {
   "cell_type": "markdown",
   "metadata": {},
   "source": [
    "بدست آوردن بریهنده (دترمینان) و همساختگر (کوفاکتور) ماتکدان (ماتریس) های سه در سه"
   ]
  },
  {
   "cell_type": "code",
   "execution_count": 7,
   "metadata": {},
   "outputs": [],
   "source": [
    "# Computing determinant and cofactor matrix\n",
    "# for 3-by-3 matrices\n",
    "\n",
    "#determinant for a 3*3 matrix\n",
    "def det_3(M):\n",
    "    a=M[0,0]; b=M[0,1]; c=M[0,2]\n",
    "    d=M[1,0]; e=M[1,1]; f=M[1,2]\n",
    "    g=M[2,0]; h=M[2,1]; i=M[2,2]\n",
    "    A=e*i-f*h; B=-(d*i-f*g); C=d*h-e*g\n",
    "    return a*A+b*B+c*C\n",
    "\n",
    "#cofactor matrix for a 3*3 matrix\n",
    "def cofactor_3(M):\n",
    "    a=M[0,0]; b=M[0,1]; c=M[0,2]\n",
    "    d=M[1,0]; e=M[1,1]; f=M[1,2]\n",
    "    g=M[2,0]; h=M[2,1]; i=M[2,2]\n",
    "    A=e*i-f*h; B=-(d*i-f*g); C=d*h-e*g\n",
    "    D=-(b*i-c*h); E=a*i-c*g; F=-(a*h-b*g)\n",
    "    G=b*f-c*e; H=-(a*f-c*d); I=a*e-b*d\n",
    "    detM=a*A+b*B+c*C\n",
    "    if detM==0: return None\n",
    "    M_cf=np.zeros_like(M)\n",
    "    M_cf[0,0]=A; M_cf[0,1]=B; M_cf[0,2]=C\n",
    "    M_cf[1,0]=D; M_cf[1,1]=E; M_cf[1,2]=F\n",
    "    M_cf[2,0]=G; M_cf[2,1]=H; M_cf[2,2]=I\n",
    "    return M_cf"
   ]
  },
  {
   "cell_type": "markdown",
   "metadata": {},
   "source": [
    "الگوریتم نهمب‌گذاری و نهمب‌گشایی برای روش زُفر هیل"
   ]
  },
  {
   "cell_type": "code",
   "execution_count": 8,
   "metadata": {},
   "outputs": [],
   "source": [
    "# Hill cipher by 3*3 matrix as key\n",
    "class Hill_cipher_3:\n",
    "    def __init__(self,alphabet,H=None):\n",
    "        self.m=len(alphabet)\n",
    "        self.n=3\n",
    "        self.alphabet=alphabet\n",
    "        if H is None:\n",
    "            flag=True\n",
    "            while flag:\n",
    "                H=np.random.randint(0,self.m,(self.n,self.n))\n",
    "                detH=int(det_3(H))\n",
    "                GCD,_,_=extended_Euc_v2(detH,self.m)\n",
    "                if (abs(detH)>0) and (GCD==1):\n",
    "                    flag=False        \n",
    "        self.H=H\n",
    "        detH=int(det_3(self.H))\n",
    "        detH_inv=mult_inverse(detH,self.m)%self.m\n",
    "        cofactor=cofactor_3(self.H)\n",
    "        self.H_inv=detH_inv*cofactor.T\n",
    "        self.H_inv%=self.m\n",
    "        self.H_inv=np.round(self.H_inv)\n",
    "    def encrypt(self,msg):\n",
    "        p_text=np.zeros(self.n,dtype='int')\n",
    "        msg_enc=''\n",
    "        counter=0\n",
    "        rem=len(''.join(msg.split()))%self.n\n",
    "        if rem!=0:\n",
    "            rem=self.n-rem\n",
    "            while rem>0:\n",
    "                msg+=self.alphabet[np.random.randint(0,self.m)]\n",
    "                rem-=1\n",
    "        for word in msg.split(' '):            \n",
    "            for letter in word:\n",
    "                index=self.alphabet.find(letter)\n",
    "                p_text[counter]=index\n",
    "                counter+=1\n",
    "                if counter==self.n:\n",
    "                    counter=0\n",
    "                    c_text=np.dot(self.H,p_text.reshape(-1,1)).ravel()\n",
    "                    c_text%=self.m\n",
    "                    for i in range(self.n):\n",
    "                        msg_enc+=self.alphabet[c_text[i]]   \n",
    "        return msg_enc\n",
    "    def decrypt(self,msg_enc):\n",
    "        c_text=np.zeros(self.n,dtype='int')\n",
    "        counter=0\n",
    "        msg_dec=''\n",
    "        for letter in msg_enc:\n",
    "            index=self.alphabet.find(letter)\n",
    "            c_text[counter]=index\n",
    "            counter+=1\n",
    "            if counter==self.n:\n",
    "                counter=0\n",
    "                p_text=np.dot(self.H_inv,c_text.reshape(-1,1)).ravel()\n",
    "                p_text%=self.m\n",
    "                for i in range(self.n):\n",
    "                    msg_dec+=self.alphabet[int(p_text[i])]  \n",
    "        return msg_dec"
   ]
  },
  {
   "cell_type": "markdown",
   "metadata": {},
   "source": [
    "درست کردن نمونه ای از روی دسته زُفر هیل"
   ]
  },
  {
   "cell_type": "code",
   "execution_count": 9,
   "metadata": {},
   "outputs": [],
   "source": [
    "# An instance of the class Hill_cipher_3\n",
    "hcipher=Hill_cipher_3(english_alphabet)"
   ]
  },
  {
   "cell_type": "markdown",
   "metadata": {},
   "source": [
    "نمونه ای از یک پیغام، که نخست، نهمب‌گذاری میشود، و سپس نهمب‌گشایی میشود"
   ]
  },
  {
   "cell_type": "code",
   "execution_count": 13,
   "metadata": {},
   "outputs": [
    {
     "name": "stdout",
     "output_type": "stream",
     "text": [
      "plaintext: hello world from hill cipher\n",
      "ciphertext: scpnvytqhyrxbfblubfxtygh\n",
      "decrypted text: helloworldfromhillcipher\n"
     ]
    }
   ],
   "source": [
    "message='hello world from hill cipher'\n",
    "encrypted=hcipher.encrypt(message)\n",
    "decrypted=hcipher.decrypt(encrypted)\n",
    "print(f'plaintext: {message}')\n",
    "print(f'ciphertext: {encrypted}')\n",
    "print(f'decrypted text: {decrypted}')"
   ]
  },
  {
   "cell_type": "code",
   "execution_count": null,
   "metadata": {},
   "outputs": [],
   "source": []
  }
 ],
 "metadata": {
  "kernelspec": {
   "display_name": "Python 3",
   "language": "python",
   "name": "python3"
  },
  "language_info": {
   "codemirror_mode": {
    "name": "ipython",
    "version": 3
   },
   "file_extension": ".py",
   "mimetype": "text/x-python",
   "name": "python",
   "nbconvert_exporter": "python",
   "pygments_lexer": "ipython3",
   "version": "3.8.3"
  }
 },
 "nbformat": 4,
 "nbformat_minor": 2
}
