{
 "cells": [
  {
   "cell_type": "markdown",
   "metadata": {},
   "source": [
    "### Words.Persian: Number 13 (happy sizdah be-dar)\n",
    "###   سیزده بدر شاد باد، شماره سیزده\n",
    "شمار سیزده، شماره ای نخست است. نخست ویلسون نیز هست\n",
    "<br>Wilson-Haytham theorem: $(p-1)!\\equiv -1 \\;(mod\\;  p)$\n",
    "<br>Wilson prime: $(p-1)!\\equiv -1\\; (mod\\; p^2)$\n",
    "<br> prime=نخست\n",
    "###### by Hamed Shah-Hosseini\n",
    "Explanation in Persian (پارسی) at Instagram: @words.persian\n",
    "<br>https://www.instagram.com/words.persian/\n",
    "<br>Code at: https://github.com/ostad-ai/Words-Persian"
   ]
  },
  {
   "cell_type": "markdown",
   "metadata": {},
   "source": [
    "$n!=n\\cdot (n-1)\\cdot(n-2)\\cdots2\\cdot1$"
   ]
  },
  {
   "cell_type": "code",
   "execution_count": 1,
   "metadata": {},
   "outputs": [],
   "source": [
    "def factorial(n):\n",
    "    assert n>=0\n",
    "    if n==0: return 1\n",
    "    fact=1\n",
    "    for i in range(1,n+1):\n",
    "        fact*=i\n",
    "    return fact"
   ]
  },
  {
   "cell_type": "code",
   "execution_count": 2,
   "metadata": {},
   "outputs": [],
   "source": [
    "#Wilson-Haytham theorem for every prime\n",
    "def Wilson_Haytham(p):\n",
    "    return (factorial(p-1)+1)%p\n",
    "# Wilson prime, only 5,13,563 are known sofar\n",
    "def Wilson_prime(p):\n",
    "    return (factorial(p-1)+1)%p**2"
   ]
  },
  {
   "cell_type": "code",
   "execution_count": 44,
   "metadata": {},
   "outputs": [
    {
     "name": "stdout",
     "output_type": "stream",
     "text": [
      "number 1001 is not  prime\n"
     ]
    }
   ],
   "source": [
    "#checking which number is prime\n",
    "number=1001\n",
    "if Wilson_Haytham(number)==0:\n",
    "    print(f'number {number} is  prime')\n",
    "else: print(f'number {number} is not  prime')"
   ]
  },
  {
   "cell_type": "code",
   "execution_count": 45,
   "metadata": {},
   "outputs": [
    {
     "name": "stdout",
     "output_type": "stream",
     "text": [
      "number 13 is Wilson prime\n"
     ]
    }
   ],
   "source": [
    "#checking which prime numbers are Wilsom Primes\n",
    "number=13\n",
    "if Wilson_prime(number)==0:\n",
    "    print(f'number {number} is Wilson prime')\n",
    "else: print(f'number {number} is not Wilson prime')"
   ]
  },
  {
   "cell_type": "code",
   "execution_count": null,
   "metadata": {},
   "outputs": [],
   "source": []
  }
 ],
 "metadata": {
  "kernelspec": {
   "display_name": "Python 3",
   "language": "python",
   "name": "python3"
  },
  "language_info": {
   "codemirror_mode": {
    "name": "ipython",
    "version": 3
   },
   "file_extension": ".py",
   "mimetype": "text/x-python",
   "name": "python",
   "nbconvert_exporter": "python",
   "pygments_lexer": "ipython3",
   "version": "3.8.3"
  }
 },
 "nbformat": 4,
 "nbformat_minor": 5
}
