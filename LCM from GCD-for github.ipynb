{
 "cells": [
  {
   "cell_type": "markdown",
   "metadata": {},
   "source": [
    "### Words.Persian: Least Common Multiple (LCM)\n",
    "### کوچکترین چندین هَموین (ک‌چ‌ه)\n",
    "$LCM(a,b)=\\frac{|a b|}{GCD(a,b)}$\n",
    "###### by Hamed Shah-hosseini\n",
    "روشنگری بیشتر، به پارسی، در نشانی اینستاگرام زیر آمده است\n",
    "<br>Explanation in Persian (پارسی) at Instagram: @words.persian\n",
    "<br>https://www.instagram.com/words.persian/\n",
    "<br>Code at: https://github.com/ostad-ai/Words-Persian"
   ]
  },
  {
   "cell_type": "code",
   "execution_count": 71,
   "metadata": {},
   "outputs": [],
   "source": [
    "# functions defined in previous post on GCD\n",
    "# Euclidean algorithm for GCD\n",
    "def GCD_Euclidean(a,b):    \n",
    "    a,b=abs(a),abs(b)\n",
    "    if a<b:\n",
    "        a,b=b,a\n",
    "    while b>0:\n",
    "        a,b=b,a%b\n",
    "    return a\n",
    "#--Reducing fraction using GCD\n",
    "def reduceFraction(a,b):\n",
    "    gcd=GCD_Euclidean(a,b)\n",
    "    return a//gcd,b//gcd"
   ]
  },
  {
   "cell_type": "code",
   "execution_count": 72,
   "metadata": {},
   "outputs": [],
   "source": [
    "# LCM using GCD algorithm\n",
    "def LCM_Euclidean(a,b):\n",
    "    gcd=GCD_Euclidean(a,b)\n",
    "    return abs(a*b)//gcd"
   ]
  },
  {
   "cell_type": "code",
   "execution_count": 73,
   "metadata": {},
   "outputs": [
    {
     "name": "stdout",
     "output_type": "stream",
     "text": [
      "LCM(12,42)=84\n"
     ]
    }
   ],
   "source": [
    "#--Example for LCM:\n",
    "a,b=12,42\n",
    "print(f'LCM({a},{b})={LCM_Euclidean(a,b)}')"
   ]
  },
  {
   "cell_type": "code",
   "execution_count": 74,
   "metadata": {},
   "outputs": [],
   "source": [
    "def addFraction(a,b,c,d):  # a/b+c/d\n",
    "    a,b=reduceFraction(a,b)\n",
    "    c,d=reduceFraction(c,d)\n",
    "    lcm=LCM_Euclidean(b,d)\n",
    "    return reduceFraction((a*(lcm//b)+c*(lcm//d)),lcm)\n",
    "def subFraction(a,b,c,d): # a/b-c/d\n",
    "    a,b=reduceFraction(a,b)\n",
    "    c,d=reduceFraction(c,d)\n",
    "    lcm=LCM_Euclidean(b,d)\n",
    "    return reduceFraction((a*(lcm//b)-c*(lcm//d)),lcm)"
   ]
  },
  {
   "cell_type": "code",
   "execution_count": 75,
   "metadata": {},
   "outputs": [
    {
     "data": {
      "text/latex": [
       "$\\displaystyle \\frac{2}{15}+\\frac{3}{4}=\\frac{53}{60}$"
      ],
      "text/plain": [
       "<IPython.core.display.Math object>"
      ]
     },
     "metadata": {},
     "output_type": "display_data"
    }
   ],
   "source": [
    "#--Example for addition of two fractions\n",
    "from IPython.display import Math, display\n",
    "a,b=2,15\n",
    "c,d=3,4\n",
    "nu,de=addFraction(a,b,c,d)\n",
    "#print(f'{a}/{b}+{c}/{d}={nu}/{de}')\n",
    "display(Math(r'$\\frac{%d}{%d}+\\frac{%d}{%d}=\\frac{%d}{%d}$'%(a,b,c,d,nu,de)))"
   ]
  },
  {
   "cell_type": "code",
   "execution_count": 76,
   "metadata": {},
   "outputs": [
    {
     "data": {
      "text/latex": [
       "$\\displaystyle \\frac{2}{15}-\\frac{3}{4}=\\frac{-37}{60}$"
      ],
      "text/plain": [
       "<IPython.core.display.Math object>"
      ]
     },
     "metadata": {},
     "output_type": "display_data"
    }
   ],
   "source": [
    "#--Example for subtraction of two fractions\n",
    "a,b=2,15\n",
    "c,d=3,4\n",
    "nu,de=subFraction(a,b,c,d)\n",
    "#print(f'{a}/{b}+{c}/{d}={nu}/{de}')\n",
    "display(Math(r'$\\frac{%d}{%d}-\\frac{%d}{%d}=\\frac{%d}{%d}$'%(a,b,c,d,nu,de)))"
   ]
  },
  {
   "cell_type": "code",
   "execution_count": 77,
   "metadata": {},
   "outputs": [
    {
     "data": {
      "text/latex": [
       "$\\displaystyle \\frac{2}{15}+\\frac{3}{4}+\\frac{5}{7}=\\frac{671}{420}$"
      ],
      "text/plain": [
       "<IPython.core.display.Math object>"
      ]
     },
     "metadata": {},
     "output_type": "display_data"
    }
   ],
   "source": [
    "#--Example for addition of more than two fractions\n",
    "a,b=2,15\n",
    "c,d=3,4\n",
    "e,f=5,7\n",
    "nu,de=addFraction(*addFraction(a,b,c,d),e,f)\n",
    "#print(f'{a}/{b}+{c}/{d}={nu}/{de}')\n",
    "display(Math(r'$\\frac{%d}{%d}+\\frac{%d}{%d}+\\frac{%d}{%d}=\\frac{%d}{%d}$'%(a,b,c,d,e,f,nu,de)))"
   ]
  },
  {
   "cell_type": "code",
   "execution_count": null,
   "metadata": {},
   "outputs": [],
   "source": []
  }
 ],
 "metadata": {
  "kernelspec": {
   "display_name": "Python 3 (ipykernel)",
   "language": "python",
   "name": "python3"
  },
  "language_info": {
   "codemirror_mode": {
    "name": "ipython",
    "version": 3
   },
   "file_extension": ".py",
   "mimetype": "text/x-python",
   "name": "python",
   "nbconvert_exporter": "python",
   "pygments_lexer": "ipython3",
   "version": "3.8.10"
  }
 },
 "nbformat": 4,
 "nbformat_minor": 4
}
