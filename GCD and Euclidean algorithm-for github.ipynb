{
 "cells": [
  {
   "cell_type": "markdown",
   "metadata": {},
   "source": [
    "### Words.Persian: Greatest Common Divisor (GCD)\n",
    "### بزرگترین بخشگر هَموین (ب‌ب‌ه)\n",
    "###### by Hamed Shah-hosseini\n",
    "Explanation in Persian (پارسی) at Instagram: @words.persian\n",
    "<br>https://www.instagram.com/words.persian/\n",
    "<br>Code at: https://github.com/ostad-ai/Words-Persian"
   ]
  },
  {
   "cell_type": "code",
   "execution_count": 4,
   "metadata": {},
   "outputs": [],
   "source": [
    "# Euclidean algorithm for GCD\n",
    "def GCD_Euclidean(a,b):    \n",
    "    a,b=abs(a),abs(b)\n",
    "    if a<b:\n",
    "        a,b=b,a\n",
    "    while b>0:\n",
    "        a,b=b,a%b\n",
    "    return a"
   ]
  },
  {
   "cell_type": "code",
   "execution_count": 13,
   "metadata": {},
   "outputs": [
    {
     "name": "stdout",
     "output_type": "stream",
     "text": [
      "GCD(12,42)=6\n"
     ]
    }
   ],
   "source": [
    "#--example for GCD:\n",
    "a,b=12,42\n",
    "print(f'GCD({a},{b})={GCD_Euclidean(a,b)}')"
   ]
  },
  {
   "cell_type": "code",
   "execution_count": 14,
   "metadata": {},
   "outputs": [],
   "source": [
    "#--Reducing fraction using GCD\n",
    "def reduceFraction(a,b):\n",
    "    gcd=GCD_Euclidean(a,b)\n",
    "    return a//gcd,b//gcd"
   ]
  },
  {
   "cell_type": "code",
   "execution_count": 15,
   "metadata": {},
   "outputs": [
    {
     "name": "stdout",
     "output_type": "stream",
     "text": [
      "25/15=5/3\n"
     ]
    }
   ],
   "source": [
    "#--example for reducing fraction\n",
    "a,b=25,15\n",
    "a_p,b_p=reduceFraction(a,b)\n",
    "print(f'{a}/{b}={a_p}/{b_p}')"
   ]
  },
  {
   "cell_type": "code",
   "execution_count": null,
   "metadata": {},
   "outputs": [],
   "source": []
  }
 ],
 "metadata": {
  "kernelspec": {
   "display_name": "Python 3",
   "language": "python",
   "name": "python3"
  },
  "language_info": {
   "codemirror_mode": {
    "name": "ipython",
    "version": 3
   },
   "file_extension": ".py",
   "mimetype": "text/x-python",
   "name": "python",
   "nbconvert_exporter": "python",
   "pygments_lexer": "ipython3",
   "version": "3.8.3"
  }
 },
 "nbformat": 4,
 "nbformat_minor": 4
}
