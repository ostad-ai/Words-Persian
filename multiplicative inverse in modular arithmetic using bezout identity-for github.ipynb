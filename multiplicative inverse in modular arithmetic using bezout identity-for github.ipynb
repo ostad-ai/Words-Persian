{
 "cells": [
  {
   "cell_type": "markdown",
   "metadata": {},
   "source": [
    "### Words.Persian: Multiplicative inverse in modular arithmetic using Bezout's Identity\n",
    "### وارونه چندینکردی در همارش پیمانه ای به یاری همانی بزوت\n",
    "what is $x$ in this linear congruence:  $a\\cdot x\\equiv 1\\; (mod\\; m)$\n",
    "<br> میخواهیم وارونه چندینکردی را، از روی همنهشتی تانه ای بالا، بیابیم\n",
    "###### by Hamed Shah-hosseini\n",
    "Explanation in Persian (پارسی) at Instagram: @words.persian\n",
    "<br>https://www.instagram.com/words.persian/\n",
    "<br>Code at: https://github.com/ostad-ai/Words-Persian"
   ]
  },
  {
   "cell_type": "code",
   "execution_count": 36,
   "metadata": {},
   "outputs": [],
   "source": [
    "# from previous post: Extended Euclidean algorithm\n",
    "# returns GCD, and bezout parameters s and t\n",
    "def extended_Euc(a,b):\n",
    "    a,b= abs(a),abs(b)\n",
    "    swapFlag=False\n",
    "    if a<b:\n",
    "        a,b=b,a\n",
    "        swapFlag=True\n",
    "    r_old,r_new=a,b\n",
    "    s_old,s_new=1,0\n",
    "    t_old,t_new=0,1\n",
    "    while r_new>0:\n",
    "        q=r_old//r_new\n",
    "        r_old,r_new=r_new,r_old-q*r_new\n",
    "        s_old,s_new=s_new,s_old-q*s_new\n",
    "        t_old,t_new=t_new,t_old-q*t_new\n",
    "    if swapFlag:\n",
    "        return r_old,t_old,s_old\n",
    "    else:\n",
    "        return r_old,s_old,t_old"
   ]
  },
  {
   "cell_type": "code",
   "execution_count": 37,
   "metadata": {},
   "outputs": [],
   "source": [
    "# multiplicative inverse of a with modulus m\n",
    "def mult_inverse(a,m):\n",
    "    gcd,s,t=extended_Euc(a,m)\n",
    "    if gcd!=1:\n",
    "        return None\n",
    "    else:\n",
    "        return s"
   ]
  },
  {
   "cell_type": "code",
   "execution_count": 35,
   "metadata": {},
   "outputs": [
    {
     "name": "stdout",
     "output_type": "stream",
     "text": [
      "Multiplicative inverse of 29 is: -4\n"
     ]
    },
    {
     "data": {
      "text/latex": [
       "$\\displaystyle So: 29*-4\\equiv1\\; (mod\\; 13)$"
      ],
      "text/plain": [
       "<IPython.core.display.Math object>"
      ]
     },
     "metadata": {},
     "output_type": "display_data"
    }
   ],
   "source": [
    "# what is the multiplicative inverse of a with modulus m?\n",
    "from IPython.display import Math, display\n",
    "a,m=29,13\n",
    "a_inverse=mult_inverse(a,m)\n",
    "if a_inverse is None:\n",
    "    print(f'We do not have multiplicative inverse of {a}')\n",
    "else:\n",
    "    print(f'Multiplicative inverse of {a} is: {a_inverse}')\n",
    "    display(Math(f'So: {a}*{a_inverse}\\equiv1\\; (mod\\; {m})'))"
   ]
  },
  {
   "cell_type": "code",
   "execution_count": null,
   "metadata": {},
   "outputs": [],
   "source": []
  }
 ],
 "metadata": {
  "kernelspec": {
   "display_name": "Python 3 (ipykernel)",
   "language": "python",
   "name": "python3"
  },
  "language_info": {
   "codemirror_mode": {
    "name": "ipython",
    "version": 3
   },
   "file_extension": ".py",
   "mimetype": "text/x-python",
   "name": "python",
   "nbconvert_exporter": "python",
   "pygments_lexer": "ipython3",
   "version": "3.8.10"
  }
 },
 "nbformat": 4,
 "nbformat_minor": 4
}
