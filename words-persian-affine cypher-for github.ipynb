{
 "cells": [
  {
   "cell_type": "markdown",
   "metadata": {},
   "source": [
    "### Words.Persian: affine cipher\n",
    "### زُفر نزدیک‌بند\n",
    "یکی از روشهای نهمب‌گذاری و نهمب‌گشایی، برپایه هَمارش پیمانه ای است\n",
    "<br>در این روش، از کلید با دو شماره دُریَست، بهره گرفته میشود\n",
    "<br>$y\\equiv a \\cdot x+b \\;(mod\\;  m)$\n",
    "<br>$x\\equiv a^{-1} \\cdot (y-b)\\; (mod\\; m)$\n",
    "<br> $gcd(a,m)=1$, key=$(a,b)$\n",
    "<br> encryption=نهمب‌گذاری\n",
    "<br> decryption=نهمب‌گشایی\n",
    "<br> modular arithmetic=همارش پیمانه ای\n",
    "###### by Hamed Shah-hosseini\n",
    "Explanation in Persian (پارسی) at Instagram: @words.persian\n",
    "<br>https://www.instagram.com/words.persian/\n",
    "<br>Code at: https://github.com/ostad-ai/Words-Persian"
   ]
  },
  {
   "cell_type": "code",
   "execution_count": 3,
   "metadata": {},
   "outputs": [],
   "source": [
    "import string"
   ]
  },
  {
   "cell_type": "markdown",
   "metadata": {},
   "source": [
    "در اینجا، از الفبای انگلیسی بهره میگیریم"
   ]
  },
  {
   "cell_type": "code",
   "execution_count": 4,
   "metadata": {},
   "outputs": [
    {
     "name": "stdout",
     "output_type": "stream",
     "text": [
      "The characters of english alphabet:\n",
      "abcdefghijklmnopqrstuvwxyz\n"
     ]
    }
   ],
   "source": [
    "english_alphabet=string.ascii_lowercase\n",
    "print('The characters of english alphabet:')\n",
    "print(english_alphabet)"
   ]
  },
  {
   "cell_type": "markdown",
   "metadata": {},
   "source": [
    "هر نویسه (کاراکتر) در الفبای انگلیسی را با شماره ای دُریست (اینتیجر)، برپایه پیچازه (تیبل) زیر، جایگزین میکنیم"
   ]
  },
  {
   "cell_type": "code",
   "execution_count": 5,
   "metadata": {},
   "outputs": [
    {
     "name": "stdout",
     "output_type": "stream",
     "text": [
      "alphabet table:\n",
      "\n",
      "a : 0 ,b : 1 ,c : 2 ,d : 3 ,e : 4 ,f : 5 ,g : 6 ,h : 7 ,i : 8 ,j : 9 ,k : 10 ,l : 11 ,m : 12 ,n : 13 ,o : 14 ,p : 15 ,q : 16 ,r : 17 ,s : 18 ,t : 19 ,u : 20 ,v : 21 ,w : 22 ,x : 23 ,y : 24 ,z : 25 ,"
     ]
    }
   ],
   "source": [
    "# the codes from letter to integer\n",
    "print('alphabet table:\\n')\n",
    "for char in english_alphabet:\n",
    "    print(char,':',english_alphabet.find(char),end=' ,')"
   ]
  },
  {
   "cell_type": "markdown",
   "metadata": {},
   "source": [
    "میخواهیم از همارش پیمانه ای بهره بگیریم، و در اینکار نیاز به وارونه چندینکردی خواهیم داشت. پیشتر، دیدیم که چگونه وارونه چندینکردی را با الگوریتم فراگسترده اقلیدسی، انجام دهیم"
   ]
  },
  {
   "cell_type": "code",
   "execution_count": 35,
   "metadata": {},
   "outputs": [],
   "source": [
    "# from an earlier post: Extended Euclidean algorithm\n",
    "# returns GCD, and bezout parameters s and t\n",
    "def extended_Euc(a,b):\n",
    "    a,b= abs(a),abs(b)\n",
    "    swapFlag=False\n",
    "    if a<b:\n",
    "        a,b=b,a\n",
    "        swapFlag=True\n",
    "    r_old,r_new=a,b\n",
    "    s_old,s_new=1,0\n",
    "    t_old,t_new=0,1\n",
    "    while r_new>0:\n",
    "        q=r_old//r_new\n",
    "        r_old,r_new=r_new,r_old-q*r_new\n",
    "        s_old,s_new=s_new,s_old-q*s_new\n",
    "        t_old,t_new=t_new,t_old-q*t_new\n",
    "    if swapFlag:\n",
    "        return r_old,t_old,s_old\n",
    "    else:\n",
    "        return r_old,s_old,t_old\n",
    "    \n",
    "# multiplicative inverse of a with modulus m\n",
    "def mult_inverse(a,m):\n",
    "    gcd,s,t=extended_Euc(a,m)\n",
    "    if gcd!=1:\n",
    "        return None\n",
    "    else:\n",
    "        return s"
   ]
  },
  {
   "cell_type": "markdown",
   "metadata": {},
   "source": [
    "الگوریتم نهمب‌گذاری به روش زُفر نزدیک‌بند، در زیر آمده"
   ]
  },
  {
   "cell_type": "code",
   "execution_count": 30,
   "metadata": {},
   "outputs": [],
   "source": [
    "# encryption function for affine cipher\n",
    "def affine_cipher_encryption(msg,alphabet,a=11,b=8):\n",
    "    code_len=len(alphabet)\n",
    "    msg_enc=''\n",
    "    for word in msg.split(' '):\n",
    "        word_enc=''\n",
    "        for letter in word:\n",
    "            index=alphabet.find(letter)\n",
    "            index_enc=(a*index+b)%code_len\n",
    "            letter_enc=alphabet[index_enc]\n",
    "            word_enc+=letter_enc\n",
    "        msg_enc+=word_enc\n",
    "        msg_enc+=' '\n",
    "    msg_enc=msg_enc[:-1]\n",
    "    return msg_enc"
   ]
  },
  {
   "cell_type": "markdown",
   "metadata": {},
   "source": [
    "الگوریتم نهمب‌گشایی به روش زُفر نزدیک‌بند، در زیر آمده"
   ]
  },
  {
   "cell_type": "code",
   "execution_count": 33,
   "metadata": {},
   "outputs": [],
   "source": [
    "# deccryption function for affine cipher\n",
    "def affine_cipher_decryption(msg_enc,alphabet,a=11,b=8):\n",
    "    code_len=len(alphabet)\n",
    "    a_inv=mult_inverse(a,code_len)\n",
    "    if a_inv==None:\n",
    "        return f'key {a} and modulus {code_len} are not coprime'\n",
    "    msg_dec=''\n",
    "    for word in msg_enc.split(' '):\n",
    "        word_dec=''\n",
    "        for letter in word:\n",
    "            index=alphabet.find(letter)\n",
    "            index_dec=(a_inv*(index-b))%code_len\n",
    "            letter_dec=alphabet[index_dec]\n",
    "            word_dec+=letter_dec\n",
    "        msg_dec+=word_dec\n",
    "        msg_dec+=' '\n",
    "    msg_dec=msg_dec[:-1]\n",
    "    return msg_dec"
   ]
  },
  {
   "cell_type": "markdown",
   "metadata": {},
   "source": [
    "نمونه ای از یک پیغام، که نخست، نهمب‌گذاری میشود، و سپس نهمب‌گشایی میشود"
   ]
  },
  {
   "cell_type": "code",
   "execution_count": 36,
   "metadata": {},
   "outputs": [
    {
     "name": "stdout",
     "output_type": "stream",
     "text": [
      "plaintext: hello world again\n",
      "ciphertext: hazzg qgnzp iwisv\n",
      "decrypted text: hello world again\n"
     ]
    }
   ],
   "source": [
    "# example using english alphabet, and key=(11,8)\n",
    "message='hello world again'\n",
    "encrypted=affine_cipher_encryption(message,english_alphabet)\n",
    "decrypted=affine_cipher_decryption(encrypted,english_alphabet)\n",
    "print(f'plaintext: {message}')\n",
    "print(f'ciphertext: {encrypted}')\n",
    "print(f'decrypted text: {decrypted}')"
   ]
  },
  {
   "cell_type": "code",
   "execution_count": null,
   "metadata": {},
   "outputs": [],
   "source": []
  }
 ],
 "metadata": {
  "kernelspec": {
   "display_name": "Python 3 (ipykernel)",
   "language": "python",
   "name": "python3"
  },
  "language_info": {
   "codemirror_mode": {
    "name": "ipython",
    "version": 3
   },
   "file_extension": ".py",
   "mimetype": "text/x-python",
   "name": "python",
   "nbconvert_exporter": "python",
   "pygments_lexer": "ipython3",
   "version": "3.8.10"
  }
 },
 "nbformat": 4,
 "nbformat_minor": 2
}
